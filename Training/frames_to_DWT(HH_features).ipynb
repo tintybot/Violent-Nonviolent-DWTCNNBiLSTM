{
 "cells": [
  {
   "cell_type": "code",
   "execution_count": null,
   "metadata": {},
   "outputs": [],
   "source": [
    "import os\n",
    "import numpy as np\n",
    "import matplotlib.pyplot as plt\n",
    "%matplotlib inline\n",
    "import pywt\n",
    "import pywt.data\n",
    "import cv2\n",
    "VC=0\n",
    "count=0\n",
    "while VC<500:\n",
    "    \n",
    "    folder='C:\\\\Users\\\\KIIT\\\\Desktop\\\\Hockey_fights\\\\nonviolent\\\\'+str(VC)\n",
    "    dirName='C:\\\\Users\\\\KIIT\\\\Desktop\\\\DWT_HH\\\\nonviolent\\\\'+str(VC)\n",
    "    if not os.path.exists(dirName):\n",
    "        os.mkdir(dirName)\n",
    "        print(\"Directory \" , str(VC) ,  \" Created \")\n",
    "    # Load image\n",
    "    #original = pywt.data.camera()\n",
    "    for filename in os.listdir(folder):\n",
    "        img = cv2.imread(os.path.join(folder,filename))\n",
    "        if img is None:\n",
    "            pass\n",
    "        else:\n",
    "            original=cv2.cvtColor(img, cv2.COLOR_RGB2GRAY)\n",
    "            # Wavelet transform of image, and plot approximation and details\n",
    "            coeffs2 = pywt.dwt2(original, 'bior1.3')\n",
    "            LL, (LH, HL, HH) = coeffs2\n",
    "            fn='C:\\\\Users\\\\KIIT\\\\Desktop\\\\DWT_HH\\\\nonviolent\\\\'+str(VC)+'\\\\NV'+str(count)+\".jpg\"\n",
    "            cv2.imwrite(fn,HH)\n",
    "            count=count+1\n",
    "    VC=VC+1"
   ]
  },
  {
   "cell_type": "code",
   "execution_count": null,
   "metadata": {},
   "outputs": [],
   "source": []
  }
 ],
 "metadata": {
  "kernelspec": {
   "display_name": "Python 3",
   "language": "python",
   "name": "python3"
  },
  "language_info": {
   "codemirror_mode": {
    "name": "ipython",
    "version": 3
   },
   "file_extension": ".py",
   "mimetype": "text/x-python",
   "name": "python",
   "nbconvert_exporter": "python",
   "pygments_lexer": "ipython3",
   "version": "3.7.3"
  }
 },
 "nbformat": 4,
 "nbformat_minor": 2
}

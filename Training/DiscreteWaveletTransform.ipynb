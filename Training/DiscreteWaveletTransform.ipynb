{
 "cells": [
  {
   "cell_type": "code",
   "execution_count": 3,
   "metadata": {},
   "outputs": [
    {
     "data": {
      "text/plain": [
       "True"
      ]
     },
     "execution_count": 3,
     "metadata": {},
     "output_type": "execute_result"
    }
   ],
   "source": [
    "import numpy as np\n",
    "import matplotlib.pyplot as plt\n",
    "%matplotlib inline\n",
    "import pywt\n",
    "import pywt.data\n",
    "import cv2\n",
    "\n",
    "# Load image\n",
    "#original = pywt.data.camera()\n",
    "ori=cv2.imread(\"a.jpg\")\n",
    "original=cv2.cvtColor(ori, cv2.COLOR_RGB2GRAY)\n",
    "\n",
    "# Wavelet transform of image, and plot approximation and details\n",
    "coeffs2 = pywt.dwt2(original, 'bior1.3')\n",
    "#print(coeffs2)\n",
    "LL, (LH, HL, HH) = coeffs2\n",
    "#LH=cv2.cvtColor(LH, plt.cm.gray)\n",
    "cv2.imwrite(\"g.jpg\",LH)"
   ]
  }
 ],
 "metadata": {
  "kernelspec": {
   "display_name": "Python 3",
   "language": "python",
   "name": "python3"
  },
  "language_info": {
   "codemirror_mode": {
    "name": "ipython",
    "version": 3
   },
   "file_extension": ".py",
   "mimetype": "text/x-python",
   "name": "python",
   "nbconvert_exporter": "python",
   "pygments_lexer": "ipython3",
   "version": "3.7.3"
  }
 },
 "nbformat": 4,
 "nbformat_minor": 2
}

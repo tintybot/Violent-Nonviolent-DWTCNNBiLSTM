{
 "cells": [
  {
   "cell_type": "code",
   "execution_count": null,
   "metadata": {},
   "outputs": [],
   "source": [
    "# Program To Read video \n",
    "# and Extract Frames \n",
    "import cv2 \n",
    "import os\n",
    "# Function to extract frames \n",
    "def FrameCapture(path,count,VC):\n",
    "    \n",
    "    # Create target Directory if don't exist\n",
    "    dirName='C:\\\\Users\\\\KIIT\\\\Desktop\\\\Hockey_fights\\\\nonviolent\\\\'+str(VC)\n",
    "    if not os.path.exists(dirName):\n",
    "        os.mkdir(dirName)\n",
    "        print(\"Directory \" , str(VC) ,  \" Created \")\n",
    "\n",
    "    # Path to video file \n",
    "    vidObj = cv2.VideoCapture(path) \n",
    "\n",
    "    # checks whether frames were extracted \n",
    "    success = 1\n",
    "\n",
    "    while(vidObj.isOpened()):\n",
    "        \n",
    "        try:\n",
    "            # vidObj object calls read \n",
    "            # function extract frames \n",
    "            success, image = vidObj.read() \n",
    "            cv2.imshow('frame',image)\n",
    "            # Saves the frames with frame-count\n",
    "            fn='C:\\\\Users\\\\KIIT\\\\Desktop\\\\Hockey_fights\\\\nonviolent\\\\'+str(VC)+'\\\\NV'+str(count)+\".jpg\"\n",
    "            cv2.imwrite(fn, image) \n",
    "            count = count+1\n",
    "            \n",
    "        except:\n",
    "            break\n",
    "        \n",
    "    vidObj.release()\n",
    "    cv2.destroyAllWindows()\n",
    "    return(count)\n",
    "\n",
    "def AllVideos(path):\n",
    "    count=0\n",
    "    VC=0\n",
    "    for filename in os.listdir(path):\n",
    "        way=(os.path.join(path,filename))\n",
    "        count=FrameCapture(way,count,VC) \n",
    "        VC=VC+1\n",
    "\n",
    "# Driver Code \n",
    "if __name__ == '__main__': \n",
    "\n",
    "    # Calling the function \n",
    "    AllVideos(\"Z:\\\\HockeyFights\\\\nonviolent\") \n",
    "\n"
   ]
  },
  {
   "cell_type": "code",
   "execution_count": null,
   "metadata": {},
   "outputs": [],
   "source": []
  }
 ],
 "metadata": {
  "kernelspec": {
   "display_name": "Python 3",
   "language": "python",
   "name": "python3"
  },
  "language_info": {
   "codemirror_mode": {
    "name": "ipython",
    "version": 3
   },
   "file_extension": ".py",
   "mimetype": "text/x-python",
   "name": "python",
   "nbconvert_exporter": "python",
   "pygments_lexer": "ipython3",
   "version": "3.7.3"
  }
 },
 "nbformat": 4,
 "nbformat_minor": 2
}
